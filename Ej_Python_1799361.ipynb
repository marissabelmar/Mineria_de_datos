{
 "cells": [
  {
   "cell_type": "markdown",
   "metadata": {},
   "source": [
    "## Ejercicios Básicos Python \n",
    "\n",
    "- Ejercicio 1: Realizar unan variable con tu matricula y realiza una secuencia \n",
    "de imprimir con tu nombre y tu matricula concatenados"
   ]
  },
  {
   "cell_type": "code",
   "execution_count": 1,
   "metadata": {},
   "outputs": [
    {
     "name": "stdout",
     "output_type": "stream",
     "text": [
      "Marissa Aleida Lucas Belmar #1799361\n"
     ]
    }
   ],
   "source": [
    "#Programa 1 \n",
    "\n",
    "mat = '1799361'\n",
    "nom = 'Marissa Aleida Lucas Belmar'\n",
    "\n",
    "print(nom + ' #' + mat)"
   ]
  },
  {
   "cell_type": "markdown",
   "metadata": {},
   "source": [
    "- Ejercicio 2: Pidiendo el input del usuario pide dos números y crea una pequeña calculadora con los operadores básicos de suma, resta, multiplicación, división y exponente"
   ]
  },
  {
   "cell_type": "code",
   "execution_count": 2,
   "metadata": {},
   "outputs": [
    {
     "name": "stdout",
     "output_type": "stream",
     "text": [
      "Introduzca el primer número: 2\n",
      "Introduzca el segundo numero: 3\n",
      "Suma= 5 \n",
      "Resta= -1, \n",
      "Multiplicacion= 6, \n",
      "Division= 0, \n",
      "Exponente 1 (2 a la 3)= 8, \n",
      "Exponente 2 (3 a la 2)= 9\n"
     ]
    }
   ],
   "source": [
    "#Programa 2\n",
    "\n",
    "num1 = int(input(\"Introduzca el primer número: \"))\n",
    "num2 = int(input(\"Introduzca el segundo numero: \"))\n",
    "\n",
    "suma = num1+num2\n",
    "resta = num1-num2\n",
    "mult = num1*num2\n",
    "div = num1/num2\n",
    "exp1 = num1**num2\n",
    "exp2 = num2**num1\n",
    "\n",
    "print(\"Suma= %d \\nResta= %d, \\nMultiplicacion= %d, \\nDivision= %d, \\nExponente 1 (%d a la %d)= %d, \\nExponente 2 (%d a la %d)= %d\" %(suma, resta, mult, div, num1, num2, exp1, num2, num1,exp2))\n"
   ]
  },
  {
   "cell_type": "markdown",
   "metadata": {},
   "source": [
    "- Ejercicio 3: Con loop while o for, realiza una lista de 10 numeros multiplos de 3, y después realiza una función de loop que sume todos los números dentro del arreglo."
   ]
  },
  {
   "cell_type": "code",
   "execution_count": 4,
   "metadata": {},
   "outputs": [
    {
     "name": "stdout",
     "output_type": "stream",
     "text": [
      "Lista de números que son multiplos de 3:\n",
      "0\n",
      "3\n",
      "6\n",
      "9\n",
      "12\n",
      "15\n",
      "18\n",
      "21\n",
      "24\n",
      "27\n",
      "30\n",
      "33\n",
      "36\n",
      "39\n",
      "42\n",
      "45\n",
      "48\n",
      "\n",
      "La suma de los multiplos entre 0 y 51 es: 408\n"
     ]
    }
   ],
   "source": [
    "#Programa 3\n",
    "aux = 0\n",
    "print(\"Lista de números que son multiplos de 3:\")\n",
    "for i in range (0,51):\n",
    "    suma = i % 3\n",
    "    if suma == 0:\n",
    "        print(i)\n",
    "        aux = aux+i \n",
    "\n",
    "print(\"\\nLa suma de los multiplos entre 0 y 51 es: %d\" %(aux))"
   ]
  },
  {
   "cell_type": "markdown",
   "metadata": {},
   "source": [
    "- Ejercicio 4: Con una función de if else, revisar si un número es par o es impar\n",
    "- Con una función de if else, revisar si un número es primo o no."
   ]
  },
  {
   "cell_type": "code",
   "execution_count": 6,
   "metadata": {},
   "outputs": [
    {
     "name": "stdout",
     "output_type": "stream",
     "text": [
      "Introduzca un número: 2\n",
      "\n",
      "El número es par\n"
     ]
    },
    {
     "data": {
      "text/plain": [
       "True"
      ]
     },
     "execution_count": 6,
     "metadata": {},
     "output_type": "execute_result"
    }
   ],
   "source": [
    "#Programa 4\n",
    "num = int(input(\"Introduzca un número: \"))\n",
    "div = num%2\n",
    "if div==0:\n",
    "    print(\"\\nEl número es par\")\n",
    "else:\n",
    "    print(\"\\nEl número es impar\")\n",
    "\n",
    "def nprimo(num):\n",
    "    for i in range(2, num):\n",
    "        if num%i == 0:\n",
    "            print(\"\\nEl numero no es primo\")\n",
    "            return False\n",
    "        print(\"El número es primo\")\n",
    "    return True\n",
    "\n",
    "nprimo(num)"
   ]
  },
  {
   "cell_type": "markdown",
   "metadata": {},
   "source": [
    "Ejercicio 5: Utilizando diferentes clases en python, crea una calculadora con los operadores básicos de suma, resta, multiplicación, división, y exponente."
   ]
  },
  {
   "cell_type": "code",
   "execution_count": 9,
   "metadata": {},
   "outputs": [
    {
     "name": "stdout",
     "output_type": "stream",
     "text": [
      "Introduzca el primer número: 1\n",
      "Introduzca el segundo numero: 2\n"
     ]
    },
    {
     "data": {
      "text/html": [
       "<div>\n",
       "<style scoped>\n",
       "    .dataframe tbody tr th:only-of-type {\n",
       "        vertical-align: middle;\n",
       "    }\n",
       "\n",
       "    .dataframe tbody tr th {\n",
       "        vertical-align: top;\n",
       "    }\n",
       "\n",
       "    .dataframe thead th {\n",
       "        text-align: right;\n",
       "    }\n",
       "</style>\n",
       "<table border=\"1\" class=\"dataframe\">\n",
       "  <thead>\n",
       "    <tr style=\"text-align: right;\">\n",
       "      <th></th>\n",
       "      <th>Resultados</th>\n",
       "    </tr>\n",
       "  </thead>\n",
       "  <tbody>\n",
       "    <tr>\n",
       "      <th>Suma</th>\n",
       "      <td>3.0</td>\n",
       "    </tr>\n",
       "    <tr>\n",
       "      <th>Resta</th>\n",
       "      <td>-1.0</td>\n",
       "    </tr>\n",
       "    <tr>\n",
       "      <th>Multiplicación</th>\n",
       "      <td>2.0</td>\n",
       "    </tr>\n",
       "    <tr>\n",
       "      <th>División</th>\n",
       "      <td>0.5</td>\n",
       "    </tr>\n",
       "    <tr>\n",
       "      <th>Exponente 1</th>\n",
       "      <td>1.0</td>\n",
       "    </tr>\n",
       "    <tr>\n",
       "      <th>Exponente 2</th>\n",
       "      <td>2.0</td>\n",
       "    </tr>\n",
       "  </tbody>\n",
       "</table>\n",
       "</div>"
      ],
      "text/plain": [
       "                Resultados\n",
       "Suma                   3.0\n",
       "Resta                 -1.0\n",
       "Multiplicación         2.0\n",
       "División               0.5\n",
       "Exponente 1            1.0\n",
       "Exponente 2            2.0"
      ]
     },
     "execution_count": 9,
     "metadata": {},
     "output_type": "execute_result"
    }
   ],
   "source": [
    "#Programa 5\n",
    "\n",
    "num1 = int(input(\"Introduzca el primer número: \"))\n",
    "num2 = int(input(\"Introduzca el segundo numero: \"))\n",
    "\n",
    "def calculadora(num1, num2):\n",
    "    suma= num1 + num2\n",
    "    resta= num1 - num2\n",
    "    mult= num1 * num2\n",
    "    div= num1 / num2\n",
    "    exp1= num1**num2\n",
    "    exp2= num2**num1\n",
    "    return {\"Suma\":suma, \"Resta\":resta, \"Multiplicacion\":mult, \"División\":div, \"Exponente 1\":exp1, \"Exponente 2\":exp2}\n",
    "\n",
    "calculadora(num1, num2)\n",
    "\n",
    "import pandas as pd\n",
    "def cal(num1, num2):\n",
    "    suma= num1 + num2\n",
    "    resta= num1 - num2\n",
    "    mult= num1 * num2\n",
    "    div= num1 / num2\n",
    "    exp1= num1**num2\n",
    "    exp2= num2**num1\n",
    "    return pd.DataFrame([suma,resta,mult,div,exp1, exp2],index=[\"Suma\",\"Resta\",\"Multiplicación\",\"División\",\"Exponente 1\",\"Exponente 2\"],columns=[\"Resultados\"])\n",
    "\n",
    "cal(num1, num2) "
   ]
  },
  {
   "cell_type": "markdown",
   "metadata": {},
   "source": [
    "## Ejercicios con estructuras básicas de Python\n",
    "\n",
    "#### Tuplas\n",
    "- Crear una variable flotante, integer, boleana y compleja e imprimir el tipo de variable que es.\n",
    "- Crear una tupla con valores enteros imprimir el primer y ultimo valor.\n",
    "- Añadir 3 valores de string a la tupla.\n",
    "- Verificar si una variable existe dentro de la tupla."
   ]
  },
  {
   "cell_type": "code",
   "execution_count": 11,
   "metadata": {},
   "outputs": [
    {
     "name": "stdout",
     "output_type": "stream",
     "text": [
      "Tipo de variables:\n",
      "a =  27.98 es <class 'float'>\n",
      "b =  56 es <class 'int'>\n",
      "c =  False es <class 'bool'>\n",
      "d =  (7+0j) es <class 'complex'>\n",
      "\n",
      "Primer y último valor de la tupla\n",
      "12 77\n",
      "\n",
      "Verificar si 1 existe en la tupla\n",
      "True\n"
     ]
    }
   ],
   "source": [
    "#Programa de Tuplas\n",
    "a = float(27.98)\n",
    "b = int(56)\n",
    "c = bool(1>10)\n",
    "d = complex(7)\n",
    "\n",
    "print(\"Tipo de variables:\")\n",
    "print(\"a = \",a, \"es\", type(a))\n",
    "print(\"b = \",b, \"es\", type(b))\n",
    "print(\"c = \",c, \"es\", type(c))\n",
    "print(\"d = \",d, \"es\", type(d))\n",
    "\n",
    "venteros = (12,14,27,98,32,1,77)\n",
    "print(\"\\nPrimer y último valor de la tupla\")\n",
    "print(venteros[0], venteros[6])\n",
    "\n",
    "venteros = ('Mineria',12,'de',14,27,98,'datos',32,1,77)\n",
    "\n",
    "print(\"\\nVerificar si 1 existe en la tupla\")\n",
    "print(1 in venteros) "
   ]
  },
  {
   "cell_type": "markdown",
   "metadata": {},
   "source": [
    "#### Listas\n",
    "- Crear una lista con 40 elementos aleatorios enteros.\n",
    "- Con una funcion (def) crear dos listas nuevas a partir de la lista creada por numeros aleatorios, en la cual en una esten los elementos pares, y en la otra los elementos impares.\n",
    "- Crear dos variables con la longitud de ambas listas nuevas e imprimir las variables.\n",
    "- Ordenar los elementos de la lista par de mayor a menor, y los de la lista impar de menor a mayor.\n",
    "- Utilizar al menos cuatro de las funciones de listas en python en la lista original de 40 elementos."
   ]
  },
  {
   "cell_type": "code",
   "execution_count": 25,
   "metadata": {},
   "outputs": [
    {
     "name": "stdout",
     "output_type": "stream",
     "text": [
      "Lista con 40 elementos aleatorios entre 1 y 274\n",
      "[31, 63, 155, 47, 162, 118, 57, 151, 269, 72, 252, 45, 24, 61, 214, 55, 106, 10, 122, 171, 13, 30, 52, 188, 71, 36, 175, 231, 73, 146, 96, 225, 159, 12, 1, 119, 59, 229, 22, 271]\n",
      "\n",
      "Lista con elementos Impar\n",
      "[1, 13, 31, 45, 47, 55, 57, 59, 61, 63, 71, 73, 119, 151, 155, 159, 171, 175, 225, 229, 231, 269, 271]\n",
      "\n",
      "Lista con elementos Par\n",
      "[252, 214, 188, 162, 146, 122, 118, 106, 96, 72, 52, 36, 30, 24, 22, 12, 10]\n"
     ]
    }
   ],
   "source": [
    "#Programa de Listas\n",
    "import random as r\n",
    "lista = range(1,274)\n",
    "L = (r.sample(lista,40))\n",
    "print(\"Lista con 40 elementos aleatorios entre 1 y 274\")\n",
    "print(L)\n",
    "def impar(L):\n",
    "    lista1=[]\n",
    "    for i in range(len(L)):\n",
    "        if L[i]%2:\n",
    "            lista1.append(L[i])\n",
    "    return lista1\n",
    "\n",
    "def par(L):\n",
    "    lista2=[]\n",
    "    for i in range(len(L)):\n",
    "        AUX=L[i]%2\n",
    "        if  AUX == 0:\n",
    "            lista2.append(L[i])\n",
    "    return lista2\n",
    "\n",
    "listaImpar = impar(L)\n",
    "listaPar = par(L)\n",
    "listaImpar.sort()\n",
    "listaPar.sort(reverse=True)\n",
    "print(\"\\nLista con elementos Impar\")\n",
    "print(listaImpar)\n",
    "print(\"\\nLista con elementos Par\")\n",
    "print(listaPar)"
   ]
  },
  {
   "cell_type": "markdown",
   "metadata": {},
   "source": [
    "#### Diccionarios\n",
    "- Crear un diccionario de 6 personas que conozcas con su primer nombre y su edad.\n",
    "- Crear una lista con los valores de la edad y reacomodar la lista de menor a mayor valor.\n",
    "- Usando el diccionario y un loop, imprimir solo los nombres.\n",
    "- Añadir dos personas nuevas a tu diccionario, incluyendo edad."
   ]
  },
  {
   "cell_type": "code",
   "execution_count": 26,
   "metadata": {},
   "outputs": [
    {
     "name": "stdout",
     "output_type": "stream",
     "text": [
      "Edades de mayor a menor: \n",
      "[8, 20, 21, 22, 24, 32]\n",
      "Marissa\n",
      "Nora\n",
      "Melissa\n",
      "Brenda\n",
      "Estephania\n",
      "Jesus\n"
     ]
    }
   ],
   "source": [
    "#Programa de Diccionarios\n",
    "Diccio = {'Nombre': ['Marissa','Nora','Melissa','Brenda','Estephania',\"Jesus\"], 'Edad':[20,22,8,21,24,32]}\n",
    "L = Diccio['Edad']\n",
    "L.sort()\n",
    "print(\"Edades de mayor a menor: \")\n",
    "print(L)\n",
    "\n",
    "for i in range(len(Diccio['Nombre'])):\n",
    "    print(Diccio['Nombre'][i])"
   ]
  },
  {
   "cell_type": "markdown",
   "metadata": {},
   "source": [
    "#### Sets\n",
    "\n",
    "- Crea un set con 100 numeros aleatorios enteros del 1 al 25.\n",
    "- Comprueba la longitud de tu set.\n",
    "- Crea una lista de 5 numeros aleatorios del 1 al 10 y comprueba si cada valor aparece en el set inicial."
   ]
  },
  {
   "cell_type": "code",
   "execution_count": 27,
   "metadata": {},
   "outputs": [
    {
     "name": "stdout",
     "output_type": "stream",
     "text": [
      "Set con 100 números aleatorios enteros del 1 al 25\n",
      "{1, 2, 3, 4, 5, 6, 7, 8, 9, 10, 11, 12, 13, 14, 15, 16, 17, 18, 19, 20, 21, 22, 23, 24, 25}\n",
      "Longtud del set: 25\n",
      "Lista con 5 números aleatorios del 1 al 10\n",
      "[3, 7, 2, 4, 1]\n",
      "Comprobar si existen los numeros en el set inicial:\n",
      "True\n",
      "True\n",
      "True\n",
      "True\n",
      "True\n"
     ]
    }
   ],
   "source": [
    "#Programa de Sets\n",
    "import random as r\n",
    "Set = set()\n",
    "aux=0\n",
    "print(\"Set con 100 números aleatorios enteros del 1 al 25\")\n",
    "while aux < 100:\n",
    "    Set.add(r.randint(1,25))\n",
    "    aux=aux+1\n",
    "print(Set)\n",
    "print(\"Longtud del set: %d\"%(len(Set)))\n",
    "\n",
    "a= range(1,10)\n",
    "lista=(r.sample(a,5))\n",
    "print(\"Lista con 5 números aleatorios del 1 al 10\")\n",
    "print(lista)\n",
    "print(\"Comprobar si existen los numeros en el set inicial:\")\n",
    "for i in range(len(lista)):\n",
    "    print(i+1 in Set)"
   ]
  },
  {
   "cell_type": "code",
   "execution_count": null,
   "metadata": {},
   "outputs": [],
   "source": []
  }
 ],
 "metadata": {
  "kernelspec": {
   "display_name": "Python 3",
   "language": "python",
   "name": "python3"
  },
  "language_info": {
   "codemirror_mode": {
    "name": "ipython",
    "version": 3
   },
   "file_extension": ".py",
   "mimetype": "text/x-python",
   "name": "python",
   "nbconvert_exporter": "python",
   "pygments_lexer": "ipython3",
   "version": "3.8.5"
  }
 },
 "nbformat": 4,
 "nbformat_minor": 4
}
